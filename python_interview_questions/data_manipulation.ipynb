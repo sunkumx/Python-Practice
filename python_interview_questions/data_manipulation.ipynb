{
 "cells": [
  {
   "cell_type": "code",
   "execution_count": 1,
   "id": "5a9f7cc5",
   "metadata": {},
   "outputs": [],
   "source": [
    "import pandas as pd\n",
    "import numpy as np"
   ]
  },
  {
   "cell_type": "code",
   "execution_count": 2,
   "id": "ea313fdd",
   "metadata": {},
   "outputs": [],
   "source": [
    "# Sample student data\n",
    "data = {\n",
    "    'Name': ['Alice', 'Bob', 'Charlie', 'David', 'Eva', 'Frank'],\n",
    "    'Age': [24, 27, 22, 32, 29, 24],\n",
    "    'City': ['New York', 'London', 'Paris', 'Tokyo', 'London', 'New York'],\n",
    "    'Score_Math': [85, 78, 92, 88, 76, 95],\n",
    "    'Score_English': [78, 88, 85, np.nan, 89, 90],\n",
    "    'Passed': [True, True, True, False, True, True]\n",
    "}\n",
    "\n",
    "df = pd.DataFrame(data)"
   ]
  },
  {
   "cell_type": "markdown",
   "id": "8f7f62e4",
   "metadata": {},
   "source": [
    "## Basic Pandas\n",
    "\n",
    "1. Creating a dataframe: **pd.DataFrame()**\n",
    "2. Create a series object: **pd.Series()**\n",
    "3. View beginning or end of the the dataframe: **df.head(), df.tail()**\n",
    "4. Data types, null values counts overviews of the dataframe: **df.info()**\n",
    "5. Summary statistics for numerical columns: **df.describe()**\n",
    "6. Inspect columns and rows: df.columns, **df.index**\n",
    "7. Dimensions of the dataframe: **df.shape**\n",
    "8. Datatype of the columns: **df.dtypes**\n",
    "9. Select columns: **df['col'] / df[['col1','col2']]**\n",
    "10. Row selection by labels or Positions: **df.loc[] , df.iloc[]**\n",
    "11. Sort DataFrame by values in columns: **df.sort_values()**\n",
    "12. Count unique values in series/column: **df.count_values()**\n"
   ]
  },
  {
   "cell_type": "code",
   "execution_count": 5,
   "id": "75ade9f3",
   "metadata": {},
   "outputs": [
    {
     "data": {
      "application/vnd.microsoft.datawrangler.viewer.v0+json": {
       "columns": [
        {
         "name": "index",
         "rawType": "int64",
         "type": "integer"
        },
        {
         "name": "Name",
         "rawType": "object",
         "type": "string"
        },
        {
         "name": "Age",
         "rawType": "int64",
         "type": "integer"
        },
        {
         "name": "City",
         "rawType": "object",
         "type": "string"
        },
        {
         "name": "Score_Math",
         "rawType": "int64",
         "type": "integer"
        },
        {
         "name": "Score_English",
         "rawType": "float64",
         "type": "float"
        },
        {
         "name": "Passed",
         "rawType": "bool",
         "type": "boolean"
        }
       ],
       "ref": "26661947-80cd-458d-bb3a-c7e4b6811787",
       "rows": [
        [
         "0",
         "Alice",
         "24",
         "New York",
         "85",
         "78.0",
         "True"
        ],
        [
         "1",
         "Bob",
         "27",
         "London",
         "78",
         "88.0",
         "True"
        ],
        [
         "2",
         "Charlie",
         "22",
         "Paris",
         "92",
         "85.0",
         "True"
        ],
        [
         "3",
         "David",
         "32",
         "Tokyo",
         "88",
         null,
         "False"
        ],
        [
         "4",
         "Eva",
         "29",
         "London",
         "76",
         "89.0",
         "True"
        ]
       ],
       "shape": {
        "columns": 6,
        "rows": 5
       }
      },
      "text/html": [
       "<div>\n",
       "<style scoped>\n",
       "    .dataframe tbody tr th:only-of-type {\n",
       "        vertical-align: middle;\n",
       "    }\n",
       "\n",
       "    .dataframe tbody tr th {\n",
       "        vertical-align: top;\n",
       "    }\n",
       "\n",
       "    .dataframe thead th {\n",
       "        text-align: right;\n",
       "    }\n",
       "</style>\n",
       "<table border=\"1\" class=\"dataframe\">\n",
       "  <thead>\n",
       "    <tr style=\"text-align: right;\">\n",
       "      <th></th>\n",
       "      <th>Name</th>\n",
       "      <th>Age</th>\n",
       "      <th>City</th>\n",
       "      <th>Score_Math</th>\n",
       "      <th>Score_English</th>\n",
       "      <th>Passed</th>\n",
       "    </tr>\n",
       "  </thead>\n",
       "  <tbody>\n",
       "    <tr>\n",
       "      <th>0</th>\n",
       "      <td>Alice</td>\n",
       "      <td>24</td>\n",
       "      <td>New York</td>\n",
       "      <td>85</td>\n",
       "      <td>78.0</td>\n",
       "      <td>True</td>\n",
       "    </tr>\n",
       "    <tr>\n",
       "      <th>1</th>\n",
       "      <td>Bob</td>\n",
       "      <td>27</td>\n",
       "      <td>London</td>\n",
       "      <td>78</td>\n",
       "      <td>88.0</td>\n",
       "      <td>True</td>\n",
       "    </tr>\n",
       "    <tr>\n",
       "      <th>2</th>\n",
       "      <td>Charlie</td>\n",
       "      <td>22</td>\n",
       "      <td>Paris</td>\n",
       "      <td>92</td>\n",
       "      <td>85.0</td>\n",
       "      <td>True</td>\n",
       "    </tr>\n",
       "    <tr>\n",
       "      <th>3</th>\n",
       "      <td>David</td>\n",
       "      <td>32</td>\n",
       "      <td>Tokyo</td>\n",
       "      <td>88</td>\n",
       "      <td>NaN</td>\n",
       "      <td>False</td>\n",
       "    </tr>\n",
       "    <tr>\n",
       "      <th>4</th>\n",
       "      <td>Eva</td>\n",
       "      <td>29</td>\n",
       "      <td>London</td>\n",
       "      <td>76</td>\n",
       "      <td>89.0</td>\n",
       "      <td>True</td>\n",
       "    </tr>\n",
       "  </tbody>\n",
       "</table>\n",
       "</div>"
      ],
      "text/plain": [
       "      Name  Age      City  Score_Math  Score_English  Passed\n",
       "0    Alice   24  New York          85           78.0    True\n",
       "1      Bob   27    London          78           88.0    True\n",
       "2  Charlie   22     Paris          92           85.0    True\n",
       "3    David   32     Tokyo          88            NaN   False\n",
       "4      Eva   29    London          76           89.0    True"
      ]
     },
     "execution_count": 5,
     "metadata": {},
     "output_type": "execute_result"
    }
   ],
   "source": [
    "df.head()"
   ]
  },
  {
   "cell_type": "code",
   "execution_count": 6,
   "id": "186cbe94",
   "metadata": {},
   "outputs": [
    {
     "data": {
      "application/vnd.microsoft.datawrangler.viewer.v0+json": {
       "columns": [
        {
         "name": "index",
         "rawType": "int64",
         "type": "integer"
        },
        {
         "name": "Name",
         "rawType": "object",
         "type": "string"
        },
        {
         "name": "Age",
         "rawType": "int64",
         "type": "integer"
        },
        {
         "name": "City",
         "rawType": "object",
         "type": "string"
        },
        {
         "name": "Score_Math",
         "rawType": "int64",
         "type": "integer"
        },
        {
         "name": "Score_English",
         "rawType": "float64",
         "type": "float"
        },
        {
         "name": "Passed",
         "rawType": "bool",
         "type": "boolean"
        }
       ],
       "ref": "a18ac44d-71f2-4f56-a62c-5de8515c3fbc",
       "rows": [
        [
         "1",
         "Bob",
         "27",
         "London",
         "78",
         "88.0",
         "True"
        ],
        [
         "2",
         "Charlie",
         "22",
         "Paris",
         "92",
         "85.0",
         "True"
        ],
        [
         "3",
         "David",
         "32",
         "Tokyo",
         "88",
         null,
         "False"
        ],
        [
         "4",
         "Eva",
         "29",
         "London",
         "76",
         "89.0",
         "True"
        ],
        [
         "5",
         "Frank",
         "24",
         "New York",
         "95",
         "90.0",
         "True"
        ]
       ],
       "shape": {
        "columns": 6,
        "rows": 5
       }
      },
      "text/html": [
       "<div>\n",
       "<style scoped>\n",
       "    .dataframe tbody tr th:only-of-type {\n",
       "        vertical-align: middle;\n",
       "    }\n",
       "\n",
       "    .dataframe tbody tr th {\n",
       "        vertical-align: top;\n",
       "    }\n",
       "\n",
       "    .dataframe thead th {\n",
       "        text-align: right;\n",
       "    }\n",
       "</style>\n",
       "<table border=\"1\" class=\"dataframe\">\n",
       "  <thead>\n",
       "    <tr style=\"text-align: right;\">\n",
       "      <th></th>\n",
       "      <th>Name</th>\n",
       "      <th>Age</th>\n",
       "      <th>City</th>\n",
       "      <th>Score_Math</th>\n",
       "      <th>Score_English</th>\n",
       "      <th>Passed</th>\n",
       "    </tr>\n",
       "  </thead>\n",
       "  <tbody>\n",
       "    <tr>\n",
       "      <th>1</th>\n",
       "      <td>Bob</td>\n",
       "      <td>27</td>\n",
       "      <td>London</td>\n",
       "      <td>78</td>\n",
       "      <td>88.0</td>\n",
       "      <td>True</td>\n",
       "    </tr>\n",
       "    <tr>\n",
       "      <th>2</th>\n",
       "      <td>Charlie</td>\n",
       "      <td>22</td>\n",
       "      <td>Paris</td>\n",
       "      <td>92</td>\n",
       "      <td>85.0</td>\n",
       "      <td>True</td>\n",
       "    </tr>\n",
       "    <tr>\n",
       "      <th>3</th>\n",
       "      <td>David</td>\n",
       "      <td>32</td>\n",
       "      <td>Tokyo</td>\n",
       "      <td>88</td>\n",
       "      <td>NaN</td>\n",
       "      <td>False</td>\n",
       "    </tr>\n",
       "    <tr>\n",
       "      <th>4</th>\n",
       "      <td>Eva</td>\n",
       "      <td>29</td>\n",
       "      <td>London</td>\n",
       "      <td>76</td>\n",
       "      <td>89.0</td>\n",
       "      <td>True</td>\n",
       "    </tr>\n",
       "    <tr>\n",
       "      <th>5</th>\n",
       "      <td>Frank</td>\n",
       "      <td>24</td>\n",
       "      <td>New York</td>\n",
       "      <td>95</td>\n",
       "      <td>90.0</td>\n",
       "      <td>True</td>\n",
       "    </tr>\n",
       "  </tbody>\n",
       "</table>\n",
       "</div>"
      ],
      "text/plain": [
       "      Name  Age      City  Score_Math  Score_English  Passed\n",
       "1      Bob   27    London          78           88.0    True\n",
       "2  Charlie   22     Paris          92           85.0    True\n",
       "3    David   32     Tokyo          88            NaN   False\n",
       "4      Eva   29    London          76           89.0    True\n",
       "5    Frank   24  New York          95           90.0    True"
      ]
     },
     "execution_count": 6,
     "metadata": {},
     "output_type": "execute_result"
    }
   ],
   "source": [
    "df.tail()"
   ]
  },
  {
   "cell_type": "code",
   "execution_count": 8,
   "id": "17a234b8",
   "metadata": {},
   "outputs": [
    {
     "data": {
      "application/vnd.microsoft.datawrangler.viewer.v0+json": {
       "columns": [
        {
         "name": "index",
         "rawType": "object",
         "type": "string"
        },
        {
         "name": "0",
         "rawType": "object",
         "type": "unknown"
        }
       ],
       "ref": "94741ab6-2f78-41a3-a9cc-721419ecafac",
       "rows": [
        [
         "Name",
         "object"
        ],
        [
         "Age",
         "int64"
        ],
        [
         "City",
         "object"
        ],
        [
         "Score_Math",
         "int64"
        ],
        [
         "Score_English",
         "float64"
        ],
        [
         "Passed",
         "bool"
        ]
       ],
       "shape": {
        "columns": 1,
        "rows": 6
       }
      },
      "text/plain": [
       "Name              object\n",
       "Age                int64\n",
       "City              object\n",
       "Score_Math         int64\n",
       "Score_English    float64\n",
       "Passed              bool\n",
       "dtype: object"
      ]
     },
     "execution_count": 8,
     "metadata": {},
     "output_type": "execute_result"
    }
   ],
   "source": [
    "df.dtypes"
   ]
  },
  {
   "cell_type": "code",
   "execution_count": 9,
   "id": "a120c585",
   "metadata": {},
   "outputs": [
    {
     "data": {
      "text/plain": [
       "Index(['Name', 'Age', 'City', 'Score_Math', 'Score_English', 'Passed'], dtype='object')"
      ]
     },
     "execution_count": 9,
     "metadata": {},
     "output_type": "execute_result"
    }
   ],
   "source": [
    "df.columns"
   ]
  },
  {
   "cell_type": "code",
   "execution_count": 18,
   "id": "dcd2be82",
   "metadata": {},
   "outputs": [
    {
     "data": {
      "application/vnd.microsoft.datawrangler.viewer.v0+json": {
       "columns": [
        {
         "name": "index",
         "rawType": "int64",
         "type": "integer"
        },
        {
         "name": "Name",
         "rawType": "object",
         "type": "string"
        },
        {
         "name": "Age",
         "rawType": "int64",
         "type": "integer"
        },
        {
         "name": "City",
         "rawType": "object",
         "type": "string"
        },
        {
         "name": "Score_Math",
         "rawType": "int64",
         "type": "integer"
        },
        {
         "name": "Score_English",
         "rawType": "float64",
         "type": "float"
        },
        {
         "name": "Passed",
         "rawType": "bool",
         "type": "boolean"
        }
       ],
       "ref": "53bdc907-874a-4e09-9c7f-1681cd9a0435",
       "rows": [
        [
         "0",
         "Alice",
         "24",
         "New York",
         "85",
         "78.0",
         "True"
        ],
        [
         "1",
         "Bob",
         "27",
         "London",
         "78",
         "88.0",
         "True"
        ],
        [
         "2",
         "Charlie",
         "22",
         "Paris",
         "92",
         "85.0",
         "True"
        ],
        [
         "4",
         "Eva",
         "29",
         "London",
         "76",
         "89.0",
         "True"
        ],
        [
         "5",
         "Frank",
         "24",
         "New York",
         "95",
         "90.0",
         "True"
        ]
       ],
       "shape": {
        "columns": 6,
        "rows": 5
       }
      },
      "text/html": [
       "<div>\n",
       "<style scoped>\n",
       "    .dataframe tbody tr th:only-of-type {\n",
       "        vertical-align: middle;\n",
       "    }\n",
       "\n",
       "    .dataframe tbody tr th {\n",
       "        vertical-align: top;\n",
       "    }\n",
       "\n",
       "    .dataframe thead th {\n",
       "        text-align: right;\n",
       "    }\n",
       "</style>\n",
       "<table border=\"1\" class=\"dataframe\">\n",
       "  <thead>\n",
       "    <tr style=\"text-align: right;\">\n",
       "      <th></th>\n",
       "      <th>Name</th>\n",
       "      <th>Age</th>\n",
       "      <th>City</th>\n",
       "      <th>Score_Math</th>\n",
       "      <th>Score_English</th>\n",
       "      <th>Passed</th>\n",
       "    </tr>\n",
       "  </thead>\n",
       "  <tbody>\n",
       "    <tr>\n",
       "      <th>0</th>\n",
       "      <td>Alice</td>\n",
       "      <td>24</td>\n",
       "      <td>New York</td>\n",
       "      <td>85</td>\n",
       "      <td>78.0</td>\n",
       "      <td>True</td>\n",
       "    </tr>\n",
       "    <tr>\n",
       "      <th>1</th>\n",
       "      <td>Bob</td>\n",
       "      <td>27</td>\n",
       "      <td>London</td>\n",
       "      <td>78</td>\n",
       "      <td>88.0</td>\n",
       "      <td>True</td>\n",
       "    </tr>\n",
       "    <tr>\n",
       "      <th>2</th>\n",
       "      <td>Charlie</td>\n",
       "      <td>22</td>\n",
       "      <td>Paris</td>\n",
       "      <td>92</td>\n",
       "      <td>85.0</td>\n",
       "      <td>True</td>\n",
       "    </tr>\n",
       "    <tr>\n",
       "      <th>4</th>\n",
       "      <td>Eva</td>\n",
       "      <td>29</td>\n",
       "      <td>London</td>\n",
       "      <td>76</td>\n",
       "      <td>89.0</td>\n",
       "      <td>True</td>\n",
       "    </tr>\n",
       "    <tr>\n",
       "      <th>5</th>\n",
       "      <td>Frank</td>\n",
       "      <td>24</td>\n",
       "      <td>New York</td>\n",
       "      <td>95</td>\n",
       "      <td>90.0</td>\n",
       "      <td>True</td>\n",
       "    </tr>\n",
       "  </tbody>\n",
       "</table>\n",
       "</div>"
      ],
      "text/plain": [
       "      Name  Age      City  Score_Math  Score_English  Passed\n",
       "0    Alice   24  New York          85           78.0    True\n",
       "1      Bob   27    London          78           88.0    True\n",
       "2  Charlie   22     Paris          92           85.0    True\n",
       "4      Eva   29    London          76           89.0    True\n",
       "5    Frank   24  New York          95           90.0    True"
      ]
     },
     "execution_count": 18,
     "metadata": {},
     "output_type": "execute_result"
    }
   ],
   "source": [
    "#Filtering\n",
    "df[(df['Age'] >= 20) & (df['Passed'] == True)] "
   ]
  },
  {
   "cell_type": "code",
   "execution_count": 20,
   "id": "99f3ee78",
   "metadata": {},
   "outputs": [
    {
     "data": {
      "application/vnd.microsoft.datawrangler.viewer.v0+json": {
       "columns": [
        {
         "name": "index",
         "rawType": "int64",
         "type": "integer"
        },
        {
         "name": "Name",
         "rawType": "object",
         "type": "string"
        },
        {
         "name": "Age",
         "rawType": "int64",
         "type": "integer"
        },
        {
         "name": "City",
         "rawType": "object",
         "type": "string"
        },
        {
         "name": "Score_Math",
         "rawType": "int64",
         "type": "integer"
        },
        {
         "name": "Score_English",
         "rawType": "float64",
         "type": "float"
        },
        {
         "name": "Passed",
         "rawType": "bool",
         "type": "boolean"
        }
       ],
       "ref": "dcdba14f-bfa9-4f5c-b73d-1c4638b3f432",
       "rows": [
        [
         "0",
         "Alice",
         "24",
         "New York",
         "85",
         "78.0",
         "True"
        ],
        [
         "1",
         "Bob",
         "27",
         "London",
         "78",
         "88.0",
         "True"
        ],
        [
         "2",
         "Charlie",
         "22",
         "Paris",
         "92",
         "85.0",
         "True"
        ],
        [
         "4",
         "Eva",
         "29",
         "London",
         "76",
         "89.0",
         "True"
        ],
        [
         "5",
         "Frank",
         "24",
         "New York",
         "95",
         "90.0",
         "True"
        ]
       ],
       "shape": {
        "columns": 6,
        "rows": 5
       }
      },
      "text/html": [
       "<div>\n",
       "<style scoped>\n",
       "    .dataframe tbody tr th:only-of-type {\n",
       "        vertical-align: middle;\n",
       "    }\n",
       "\n",
       "    .dataframe tbody tr th {\n",
       "        vertical-align: top;\n",
       "    }\n",
       "\n",
       "    .dataframe thead th {\n",
       "        text-align: right;\n",
       "    }\n",
       "</style>\n",
       "<table border=\"1\" class=\"dataframe\">\n",
       "  <thead>\n",
       "    <tr style=\"text-align: right;\">\n",
       "      <th></th>\n",
       "      <th>Name</th>\n",
       "      <th>Age</th>\n",
       "      <th>City</th>\n",
       "      <th>Score_Math</th>\n",
       "      <th>Score_English</th>\n",
       "      <th>Passed</th>\n",
       "    </tr>\n",
       "  </thead>\n",
       "  <tbody>\n",
       "    <tr>\n",
       "      <th>0</th>\n",
       "      <td>Alice</td>\n",
       "      <td>24</td>\n",
       "      <td>New York</td>\n",
       "      <td>85</td>\n",
       "      <td>78.0</td>\n",
       "      <td>True</td>\n",
       "    </tr>\n",
       "    <tr>\n",
       "      <th>1</th>\n",
       "      <td>Bob</td>\n",
       "      <td>27</td>\n",
       "      <td>London</td>\n",
       "      <td>78</td>\n",
       "      <td>88.0</td>\n",
       "      <td>True</td>\n",
       "    </tr>\n",
       "    <tr>\n",
       "      <th>2</th>\n",
       "      <td>Charlie</td>\n",
       "      <td>22</td>\n",
       "      <td>Paris</td>\n",
       "      <td>92</td>\n",
       "      <td>85.0</td>\n",
       "      <td>True</td>\n",
       "    </tr>\n",
       "    <tr>\n",
       "      <th>4</th>\n",
       "      <td>Eva</td>\n",
       "      <td>29</td>\n",
       "      <td>London</td>\n",
       "      <td>76</td>\n",
       "      <td>89.0</td>\n",
       "      <td>True</td>\n",
       "    </tr>\n",
       "    <tr>\n",
       "      <th>5</th>\n",
       "      <td>Frank</td>\n",
       "      <td>24</td>\n",
       "      <td>New York</td>\n",
       "      <td>95</td>\n",
       "      <td>90.0</td>\n",
       "      <td>True</td>\n",
       "    </tr>\n",
       "  </tbody>\n",
       "</table>\n",
       "</div>"
      ],
      "text/plain": [
       "      Name  Age      City  Score_Math  Score_English  Passed\n",
       "0    Alice   24  New York          85           78.0    True\n",
       "1      Bob   27    London          78           88.0    True\n",
       "2  Charlie   22     Paris          92           85.0    True\n",
       "4      Eva   29    London          76           89.0    True\n",
       "5    Frank   24  New York          95           90.0    True"
      ]
     },
     "execution_count": 20,
     "metadata": {},
     "output_type": "execute_result"
    }
   ],
   "source": [
    "#Filtering using Query Method\n",
    "\n",
    "df.query('Age > 21 and Passed == True')"
   ]
  },
  {
   "cell_type": "code",
   "execution_count": 26,
   "id": "6b312a48",
   "metadata": {},
   "outputs": [
    {
     "data": {
      "application/vnd.microsoft.datawrangler.viewer.v0+json": {
       "columns": [
        {
         "name": "index",
         "rawType": "object",
         "type": "string"
        },
        {
         "name": "Age",
         "rawType": "float64",
         "type": "float"
        },
        {
         "name": "Score_Math",
         "rawType": "float64",
         "type": "float"
        },
        {
         "name": "Score_English",
         "rawType": "float64",
         "type": "float"
        }
       ],
       "ref": "e9bba8ba-f426-4ea4-8193-753bdd7ee5e9",
       "rows": [
        [
         "count",
         "6.0",
         "6.0",
         "5.0"
        ],
        [
         "mean",
         "26.33",
         "85.67",
         "86.0"
        ],
        [
         "std",
         "3.72",
         "7.55",
         "4.85"
        ],
        [
         "min",
         "22.0",
         "76.0",
         "78.0"
        ],
        [
         "25%",
         "24.0",
         "79.75",
         "85.0"
        ],
        [
         "50%",
         "25.5",
         "86.5",
         "88.0"
        ],
        [
         "75%",
         "28.5",
         "91.0",
         "89.0"
        ],
        [
         "max",
         "32.0",
         "95.0",
         "90.0"
        ]
       ],
       "shape": {
        "columns": 3,
        "rows": 8
       }
      },
      "text/html": [
       "<div>\n",
       "<style scoped>\n",
       "    .dataframe tbody tr th:only-of-type {\n",
       "        vertical-align: middle;\n",
       "    }\n",
       "\n",
       "    .dataframe tbody tr th {\n",
       "        vertical-align: top;\n",
       "    }\n",
       "\n",
       "    .dataframe thead th {\n",
       "        text-align: right;\n",
       "    }\n",
       "</style>\n",
       "<table border=\"1\" class=\"dataframe\">\n",
       "  <thead>\n",
       "    <tr style=\"text-align: right;\">\n",
       "      <th></th>\n",
       "      <th>Age</th>\n",
       "      <th>Score_Math</th>\n",
       "      <th>Score_English</th>\n",
       "    </tr>\n",
       "  </thead>\n",
       "  <tbody>\n",
       "    <tr>\n",
       "      <th>count</th>\n",
       "      <td>6.00</td>\n",
       "      <td>6.00</td>\n",
       "      <td>5.00</td>\n",
       "    </tr>\n",
       "    <tr>\n",
       "      <th>mean</th>\n",
       "      <td>26.33</td>\n",
       "      <td>85.67</td>\n",
       "      <td>86.00</td>\n",
       "    </tr>\n",
       "    <tr>\n",
       "      <th>std</th>\n",
       "      <td>3.72</td>\n",
       "      <td>7.55</td>\n",
       "      <td>4.85</td>\n",
       "    </tr>\n",
       "    <tr>\n",
       "      <th>min</th>\n",
       "      <td>22.00</td>\n",
       "      <td>76.00</td>\n",
       "      <td>78.00</td>\n",
       "    </tr>\n",
       "    <tr>\n",
       "      <th>25%</th>\n",
       "      <td>24.00</td>\n",
       "      <td>79.75</td>\n",
       "      <td>85.00</td>\n",
       "    </tr>\n",
       "    <tr>\n",
       "      <th>50%</th>\n",
       "      <td>25.50</td>\n",
       "      <td>86.50</td>\n",
       "      <td>88.00</td>\n",
       "    </tr>\n",
       "    <tr>\n",
       "      <th>75%</th>\n",
       "      <td>28.50</td>\n",
       "      <td>91.00</td>\n",
       "      <td>89.00</td>\n",
       "    </tr>\n",
       "    <tr>\n",
       "      <th>max</th>\n",
       "      <td>32.00</td>\n",
       "      <td>95.00</td>\n",
       "      <td>90.00</td>\n",
       "    </tr>\n",
       "  </tbody>\n",
       "</table>\n",
       "</div>"
      ],
      "text/plain": [
       "         Age  Score_Math  Score_English\n",
       "count   6.00        6.00           5.00\n",
       "mean   26.33       85.67          86.00\n",
       "std     3.72        7.55           4.85\n",
       "min    22.00       76.00          78.00\n",
       "25%    24.00       79.75          85.00\n",
       "50%    25.50       86.50          88.00\n",
       "75%    28.50       91.00          89.00\n",
       "max    32.00       95.00          90.00"
      ]
     },
     "execution_count": 26,
     "metadata": {},
     "output_type": "execute_result"
    }
   ],
   "source": [
    "#Descriptive stats, rounding off to 2 decimal points\n",
    "\n",
    "df.describe().round(2)"
   ]
  },
  {
   "cell_type": "code",
   "execution_count": 29,
   "id": "f8e49b5c",
   "metadata": {},
   "outputs": [
    {
     "data": {
      "application/vnd.microsoft.datawrangler.viewer.v0+json": {
       "columns": [
        {
         "name": "index",
         "rawType": "object",
         "type": "string"
        },
        {
         "name": "0",
         "rawType": "int64",
         "type": "integer"
        }
       ],
       "ref": "e04e75f7-a149-4ab2-9368-4b9904373ec5",
       "rows": [
        [
         "Name",
         "0"
        ],
        [
         "Age",
         "0"
        ],
        [
         "City",
         "0"
        ],
        [
         "Score_Math",
         "0"
        ],
        [
         "Score_English",
         "1"
        ],
        [
         "Passed",
         "0"
        ]
       ],
       "shape": {
        "columns": 1,
        "rows": 6
       }
      },
      "text/plain": [
       "Name             0\n",
       "Age              0\n",
       "City             0\n",
       "Score_Math       0\n",
       "Score_English    1\n",
       "Passed           0\n",
       "dtype: int64"
      ]
     },
     "execution_count": 29,
     "metadata": {},
     "output_type": "execute_result"
    }
   ],
   "source": [
    "#finding null \n",
    "\n",
    "df.isnull().sum()"
   ]
  },
  {
   "cell_type": "code",
   "execution_count": null,
   "id": "7818472a",
   "metadata": {},
   "outputs": [
    {
     "data": {
      "application/vnd.microsoft.datawrangler.viewer.v0+json": {
       "columns": [
        {
         "name": "index",
         "rawType": "int64",
         "type": "integer"
        },
        {
         "name": "Name",
         "rawType": "object",
         "type": "string"
        },
        {
         "name": "Age",
         "rawType": "int64",
         "type": "integer"
        },
        {
         "name": "City",
         "rawType": "object",
         "type": "string"
        },
        {
         "name": "Score_Math",
         "rawType": "int64",
         "type": "integer"
        },
        {
         "name": "Score_English",
         "rawType": "float64",
         "type": "float"
        },
        {
         "name": "Passed",
         "rawType": "bool",
         "type": "boolean"
        }
       ],
       "ref": "067195ee-f9ab-46f3-9dae-e9de8d989c96",
       "rows": [
        [
         "0",
         "Alice",
         "24",
         "New York",
         "85",
         "78.0",
         "True"
        ],
        [
         "1",
         "Bob",
         "27",
         "London",
         "78",
         "88.0",
         "True"
        ],
        [
         "2",
         "Charlie",
         "22",
         "Paris",
         "92",
         "85.0",
         "True"
        ],
        [
         "3",
         "David",
         "32",
         "Tokyo",
         "88",
         "86.0",
         "False"
        ],
        [
         "4",
         "Eva",
         "29",
         "London",
         "76",
         "89.0",
         "True"
        ],
        [
         "5",
         "Frank",
         "24",
         "New York",
         "95",
         "90.0",
         "True"
        ]
       ],
       "shape": {
        "columns": 6,
        "rows": 6
       }
      },
      "text/html": [
       "<div>\n",
       "<style scoped>\n",
       "    .dataframe tbody tr th:only-of-type {\n",
       "        vertical-align: middle;\n",
       "    }\n",
       "\n",
       "    .dataframe tbody tr th {\n",
       "        vertical-align: top;\n",
       "    }\n",
       "\n",
       "    .dataframe thead th {\n",
       "        text-align: right;\n",
       "    }\n",
       "</style>\n",
       "<table border=\"1\" class=\"dataframe\">\n",
       "  <thead>\n",
       "    <tr style=\"text-align: right;\">\n",
       "      <th></th>\n",
       "      <th>Name</th>\n",
       "      <th>Age</th>\n",
       "      <th>City</th>\n",
       "      <th>Score_Math</th>\n",
       "      <th>Score_English</th>\n",
       "      <th>Passed</th>\n",
       "    </tr>\n",
       "  </thead>\n",
       "  <tbody>\n",
       "    <tr>\n",
       "      <th>0</th>\n",
       "      <td>Alice</td>\n",
       "      <td>24</td>\n",
       "      <td>New York</td>\n",
       "      <td>85</td>\n",
       "      <td>78.0</td>\n",
       "      <td>True</td>\n",
       "    </tr>\n",
       "    <tr>\n",
       "      <th>1</th>\n",
       "      <td>Bob</td>\n",
       "      <td>27</td>\n",
       "      <td>London</td>\n",
       "      <td>78</td>\n",
       "      <td>88.0</td>\n",
       "      <td>True</td>\n",
       "    </tr>\n",
       "    <tr>\n",
       "      <th>2</th>\n",
       "      <td>Charlie</td>\n",
       "      <td>22</td>\n",
       "      <td>Paris</td>\n",
       "      <td>92</td>\n",
       "      <td>85.0</td>\n",
       "      <td>True</td>\n",
       "    </tr>\n",
       "    <tr>\n",
       "      <th>3</th>\n",
       "      <td>David</td>\n",
       "      <td>32</td>\n",
       "      <td>Tokyo</td>\n",
       "      <td>88</td>\n",
       "      <td>86.0</td>\n",
       "      <td>False</td>\n",
       "    </tr>\n",
       "    <tr>\n",
       "      <th>4</th>\n",
       "      <td>Eva</td>\n",
       "      <td>29</td>\n",
       "      <td>London</td>\n",
       "      <td>76</td>\n",
       "      <td>89.0</td>\n",
       "      <td>True</td>\n",
       "    </tr>\n",
       "    <tr>\n",
       "      <th>5</th>\n",
       "      <td>Frank</td>\n",
       "      <td>24</td>\n",
       "      <td>New York</td>\n",
       "      <td>95</td>\n",
       "      <td>90.0</td>\n",
       "      <td>True</td>\n",
       "    </tr>\n",
       "  </tbody>\n",
       "</table>\n",
       "</div>"
      ],
      "text/plain": [
       "      Name  Age      City  Score_Math  Score_English  Passed\n",
       "0    Alice   24  New York          85           78.0    True\n",
       "1      Bob   27    London          78           88.0    True\n",
       "2  Charlie   22     Paris          92           85.0    True\n",
       "3    David   32     Tokyo          88           86.0   False\n",
       "4      Eva   29    London          76           89.0    True\n",
       "5    Frank   24  New York          95           90.0    True"
      ]
     },
     "execution_count": 30,
     "metadata": {},
     "output_type": "execute_result"
    }
   ],
   "source": [
    "#missing value imputation using Mean().\n",
    "\n",
    "df.fillna(df['Score_English'].mean())"
   ]
  },
  {
   "cell_type": "code",
   "execution_count": 31,
   "id": "e57f53b9",
   "metadata": {},
   "outputs": [
    {
     "data": {
      "application/vnd.microsoft.datawrangler.viewer.v0+json": {
       "columns": [
        {
         "name": "index",
         "rawType": "object",
         "type": "string"
        },
        {
         "name": "0",
         "rawType": "int64",
         "type": "integer"
        }
       ],
       "ref": "d695b231-1744-407e-bfa4-0d079f535544",
       "rows": [
        [
         "Name",
         "0"
        ],
        [
         "Age",
         "0"
        ],
        [
         "City",
         "0"
        ],
        [
         "Score_Math",
         "0"
        ],
        [
         "Score_English",
         "1"
        ],
        [
         "Passed",
         "0"
        ]
       ],
       "shape": {
        "columns": 1,
        "rows": 6
       }
      },
      "text/plain": [
       "Name             0\n",
       "Age              0\n",
       "City             0\n",
       "Score_Math       0\n",
       "Score_English    1\n",
       "Passed           0\n",
       "dtype: int64"
      ]
     },
     "execution_count": 31,
     "metadata": {},
     "output_type": "execute_result"
    }
   ],
   "source": [
    "df.isnull().sum()"
   ]
  },
  {
   "cell_type": "code",
   "execution_count": 32,
   "id": "95d0ef13",
   "metadata": {},
   "outputs": [
    {
     "data": {
      "text/plain": [
       "array([[<Axes: title={'center': 'Age'}>,\n",
       "        <Axes: title={'center': 'Score_Math'}>],\n",
       "       [<Axes: title={'center': 'Score_English'}>, <Axes: >]],\n",
       "      dtype=object)"
      ]
     },
     "execution_count": 32,
     "metadata": {},
     "output_type": "execute_result"
    },
    {
     "data": {
      "image/png": "[encoded data removed]",
      "text/plain": [
       "<Figure size 640x480 with 4 Axes>"
      ]
     },
     "metadata": {},
     "output_type": "display_data"
    }
   ],
   "source": [
    "df.hist()"
   ]
  },
  {
   "cell_type": "code",
   "execution_count": 33,
   "id": "3b0c6693",
   "metadata": {},
   "outputs": [
    {
     "data": {
      "text/plain": [
       "array([<Axes: title={'center': 'False'}>,\n",
       "       <Axes: title={'center': 'True'}>], dtype=object)"
      ]
     },
     "execution_count": 33,
     "metadata": {},
     "output_type": "execute_result"
    },
    {
     "data": {
      "image/png": "[encoded data removed]",
      "text/plain": [
       "<Figure size 640x480 with 2 Axes>"
      ]
     },
     "metadata": {},
     "output_type": "display_data"
    }
   ],
   "source": [
    "df.hist(column='Age', by='Passed')"
   ]
  },
  {
   "cell_type": "markdown",
   "id": "a514467b",
   "metadata": {},
   "source": [
    "## Intermediate Pandas\n",
    "\n",
    "1. Remove rows or columns: **df.drop()**\n",
    "2. Rename columns or indices: **df.rename()**\n",
    "3. Handle missing values: **df.fillna(), df.dropna()**\n",
    "4. Detect/Remove duplicate rows: **df.duplicate(), df.drop_duplicates()**\n",
    "5. Replace values with new ones: **df.replace()**\n",
    "6. Apply functions to Rows/Columns: **df.apply()**\n",
    "7. Aggregate by groups: **df.groupby()**\n",
    "8. Apply multiple aggregation at once: **df.agg()**\n",
    "9. Summaries data into multi-dimensional tables(Pivot Table): **df.pivot_table()**\n",
    "10. Detect missing values: **df.isnull()**\n",
    "11. Query dataframe with expression: **df.query()**\n",
    "12. Random row sampling: **df.sample()**\n",
    " "
   ]
  },
  {
   "cell_type": "markdown",
   "id": "8832239f",
   "metadata": {},
   "source": [
    "## "
   ]
  },
  {
   "cell_type": "code",
   "execution_count": 34,
   "id": "bebcb91e",
   "metadata": {},
   "outputs": [],
   "source": [
    "#Adding new column df['Total_marks']\n",
    "\n",
    "df['total_marks'] = df['Score_Math'] + df['Score_English']"
   ]
  },
  {
   "cell_type": "code",
   "execution_count": 35,
   "id": "b930504e",
   "metadata": {},
   "outputs": [
    {
     "data": {
      "application/vnd.microsoft.datawrangler.viewer.v0+json": {
       "columns": [
        {
         "name": "index",
         "rawType": "int64",
         "type": "integer"
        },
        {
         "name": "Name",
         "rawType": "object",
         "type": "string"
        },
        {
         "name": "Age",
         "rawType": "int64",
         "type": "integer"
        },
        {
         "name": "City",
         "rawType": "object",
         "type": "string"
        },
        {
         "name": "Score_Math",
         "rawType": "int64",
         "type": "integer"
        },
        {
         "name": "Score_English",
         "rawType": "float64",
         "type": "float"
        },
        {
         "name": "Passed",
         "rawType": "bool",
         "type": "boolean"
        },
        {
         "name": "total_marks",
         "rawType": "float64",
         "type": "float"
        }
       ],
       "ref": "96e36150-fab1-4626-a7c7-60c36b5dd951",
       "rows": [
        [
         "0",
         "Alice",
         "24",
         "New York",
         "85",
         "78.0",
         "True",
         "163.0"
        ],
        [
         "1",
         "Bob",
         "27",
         "London",
         "78",
         "88.0",
         "True",
         "166.0"
        ],
        [
         "2",
         "Charlie",
         "22",
         "Paris",
         "92",
         "85.0",
         "True",
         "177.0"
        ],
        [
         "3",
         "David",
         "32",
         "Tokyo",
         "88",
         null,
         "False",
         null
        ],
        [
         "4",
         "Eva",
         "29",
         "London",
         "76",
         "89.0",
         "True",
         "165.0"
        ]
       ],
       "shape": {
        "columns": 7,
        "rows": 5
       }
      },
      "text/html": [
       "<div>\n",
       "<style scoped>\n",
       "    .dataframe tbody tr th:only-of-type {\n",
       "        vertical-align: middle;\n",
       "    }\n",
       "\n",
       "    .dataframe tbody tr th {\n",
       "        vertical-align: top;\n",
       "    }\n",
       "\n",
       "    .dataframe thead th {\n",
       "        text-align: right;\n",
       "    }\n",
       "</style>\n",
       "<table border=\"1\" class=\"dataframe\">\n",
       "  <thead>\n",
       "    <tr style=\"text-align: right;\">\n",
       "      <th></th>\n",
       "      <th>Name</th>\n",
       "      <th>Age</th>\n",
       "      <th>City</th>\n",
       "      <th>Score_Math</th>\n",
       "      <th>Score_English</th>\n",
       "      <th>Passed</th>\n",
       "      <th>total_marks</th>\n",
       "    </tr>\n",
       "  </thead>\n",
       "  <tbody>\n",
       "    <tr>\n",
       "      <th>0</th>\n",
       "      <td>Alice</td>\n",
       "      <td>24</td>\n",
       "      <td>New York</td>\n",
       "      <td>85</td>\n",
       "      <td>78.0</td>\n",
       "      <td>True</td>\n",
       "      <td>163.0</td>\n",
       "    </tr>\n",
       "    <tr>\n",
       "      <th>1</th>\n",
       "      <td>Bob</td>\n",
       "      <td>27</td>\n",
       "      <td>London</td>\n",
       "      <td>78</td>\n",
       "      <td>88.0</td>\n",
       "      <td>True</td>\n",
       "      <td>166.0</td>\n",
       "    </tr>\n",
       "    <tr>\n",
       "      <th>2</th>\n",
       "      <td>Charlie</td>\n",
       "      <td>22</td>\n",
       "      <td>Paris</td>\n",
       "      <td>92</td>\n",
       "      <td>85.0</td>\n",
       "      <td>True</td>\n",
       "      <td>177.0</td>\n",
       "    </tr>\n",
       "    <tr>\n",
       "      <th>3</th>\n",
       "      <td>David</td>\n",
       "      <td>32</td>\n",
       "      <td>Tokyo</td>\n",
       "      <td>88</td>\n",
       "      <td>NaN</td>\n",
       "      <td>False</td>\n",
       "      <td>NaN</td>\n",
       "    </tr>\n",
       "    <tr>\n",
       "      <th>4</th>\n",
       "      <td>Eva</td>\n",
       "      <td>29</td>\n",
       "      <td>London</td>\n",
       "      <td>76</td>\n",
       "      <td>89.0</td>\n",
       "      <td>True</td>\n",
       "      <td>165.0</td>\n",
       "    </tr>\n",
       "  </tbody>\n",
       "</table>\n",
       "</div>"
      ],
      "text/plain": [
       "      Name  Age      City  Score_Math  Score_English  Passed  total_marks\n",
       "0    Alice   24  New York          85           78.0    True        163.0\n",
       "1      Bob   27    London          78           88.0    True        166.0\n",
       "2  Charlie   22     Paris          92           85.0    True        177.0\n",
       "3    David   32     Tokyo          88            NaN   False          NaN\n",
       "4      Eva   29    London          76           89.0    True        165.0"
      ]
     },
     "execution_count": 35,
     "metadata": {},
     "output_type": "execute_result"
    }
   ],
   "source": [
    "df.head()"
   ]
  },
  {
   "cell_type": "code",
   "execution_count": 36,
   "id": "a8599a84",
   "metadata": {},
   "outputs": [
    {
     "data": {
      "application/vnd.microsoft.datawrangler.viewer.v0+json": {
       "columns": [
        {
         "name": "City",
         "rawType": "object",
         "type": "string"
        },
        {
         "name": "Score_Math",
         "rawType": "float64",
         "type": "float"
        }
       ],
       "ref": "ae03c4c9-53a2-44c2-9614-f737adcfb855",
       "rows": [
        [
         "London",
         "77.0"
        ],
        [
         "New York",
         "90.0"
        ],
        [
         "Paris",
         "92.0"
        ],
        [
         "Tokyo",
         "88.0"
        ]
       ],
       "shape": {
        "columns": 1,
        "rows": 4
       }
      },
      "text/plain": [
       "City\n",
       "London      77.0\n",
       "New York    90.0\n",
       "Paris       92.0\n",
       "Tokyo       88.0\n",
       "Name: Score_Math, dtype: float64"
      ]
     },
     "execution_count": 36,
     "metadata": {},
     "output_type": "execute_result"
    }
   ],
   "source": [
    "#groupby and aggregate\n",
    "\n",
    "\n",
    "df.groupby('City')['Score_Math'].mean()"
   ]
  },
  {
   "cell_type": "code",
   "execution_count": 38,
   "id": "3bcd8006",
   "metadata": {},
   "outputs": [],
   "source": [
    "#Lambda function\n",
    "\n",
    "df['Age'] = df['Age'].apply(lambda x: x+1)"
   ]
  },
  {
   "cell_type": "code",
   "execution_count": 39,
   "id": "aa8f1a07",
   "metadata": {},
   "outputs": [
    {
     "data": {
      "application/vnd.microsoft.datawrangler.viewer.v0+json": {
       "columns": [
        {
         "name": "index",
         "rawType": "int64",
         "type": "integer"
        },
        {
         "name": "Name",
         "rawType": "object",
         "type": "string"
        },
        {
         "name": "Age",
         "rawType": "int64",
         "type": "integer"
        },
        {
         "name": "City",
         "rawType": "object",
         "type": "string"
        },
        {
         "name": "Score_Math",
         "rawType": "int64",
         "type": "integer"
        },
        {
         "name": "Score_English",
         "rawType": "float64",
         "type": "float"
        },
        {
         "name": "Passed",
         "rawType": "bool",
         "type": "boolean"
        },
        {
         "name": "total_marks",
         "rawType": "float64",
         "type": "float"
        }
       ],
       "ref": "bb0e63c7-c4da-4efb-87a4-7ea85ba25331",
       "rows": [
        [
         "0",
         "Alice",
         "25",
         "New York",
         "85",
         "78.0",
         "True",
         "163.0"
        ],
        [
         "1",
         "Bob",
         "28",
         "London",
         "78",
         "88.0",
         "True",
         "166.0"
        ],
        [
         "2",
         "Charlie",
         "23",
         "Paris",
         "92",
         "85.0",
         "True",
         "177.0"
        ],
        [
         "3",
         "David",
         "33",
         "Tokyo",
         "88",
         null,
         "False",
         null
        ],
        [
         "4",
         "Eva",
         "30",
         "London",
         "76",
         "89.0",
         "True",
         "165.0"
        ]
       ],
       "shape": {
        "columns": 7,
        "rows": 5
       }
      },
      "text/html": [
       "<div>\n",
       "<style scoped>\n",
       "    .dataframe tbody tr th:only-of-type {\n",
       "        vertical-align: middle;\n",
       "    }\n",
       "\n",
       "    .dataframe tbody tr th {\n",
       "        vertical-align: top;\n",
       "    }\n",
       "\n",
       "    .dataframe thead th {\n",
       "        text-align: right;\n",
       "    }\n",
       "</style>\n",
       "<table border=\"1\" class=\"dataframe\">\n",
       "  <thead>\n",
       "    <tr style=\"text-align: right;\">\n",
       "      <th></th>\n",
       "      <th>Name</th>\n",
       "      <th>Age</th>\n",
       "      <th>City</th>\n",
       "      <th>Score_Math</th>\n",
       "      <th>Score_English</th>\n",
       "      <th>Passed</th>\n",
       "      <th>total_marks</th>\n",
       "    </tr>\n",
       "  </thead>\n",
       "  <tbody>\n",
       "    <tr>\n",
       "      <th>0</th>\n",
       "      <td>Alice</td>\n",
       "      <td>25</td>\n",
       "      <td>New York</td>\n",
       "      <td>85</td>\n",
       "      <td>78.0</td>\n",
       "      <td>True</td>\n",
       "      <td>163.0</td>\n",
       "    </tr>\n",
       "    <tr>\n",
       "      <th>1</th>\n",
       "      <td>Bob</td>\n",
       "      <td>28</td>\n",
       "      <td>London</td>\n",
       "      <td>78</td>\n",
       "      <td>88.0</td>\n",
       "      <td>True</td>\n",
       "      <td>166.0</td>\n",
       "    </tr>\n",
       "    <tr>\n",
       "      <th>2</th>\n",
       "      <td>Charlie</td>\n",
       "      <td>23</td>\n",
       "      <td>Paris</td>\n",
       "      <td>92</td>\n",
       "      <td>85.0</td>\n",
       "      <td>True</td>\n",
       "      <td>177.0</td>\n",
       "    </tr>\n",
       "    <tr>\n",
       "      <th>3</th>\n",
       "      <td>David</td>\n",
       "      <td>33</td>\n",
       "      <td>Tokyo</td>\n",
       "      <td>88</td>\n",
       "      <td>NaN</td>\n",
       "      <td>False</td>\n",
       "      <td>NaN</td>\n",
       "    </tr>\n",
       "    <tr>\n",
       "      <th>4</th>\n",
       "      <td>Eva</td>\n",
       "      <td>30</td>\n",
       "      <td>London</td>\n",
       "      <td>76</td>\n",
       "      <td>89.0</td>\n",
       "      <td>True</td>\n",
       "      <td>165.0</td>\n",
       "    </tr>\n",
       "  </tbody>\n",
       "</table>\n",
       "</div>"
      ],
      "text/plain": [
       "      Name  Age      City  Score_Math  Score_English  Passed  total_marks\n",
       "0    Alice   25  New York          85           78.0    True        163.0\n",
       "1      Bob   28    London          78           88.0    True        166.0\n",
       "2  Charlie   23     Paris          92           85.0    True        177.0\n",
       "3    David   33     Tokyo          88            NaN   False          NaN\n",
       "4      Eva   30    London          76           89.0    True        165.0"
      ]
     },
     "execution_count": 39,
     "metadata": {},
     "output_type": "execute_result"
    }
   ],
   "source": [
    "df.head()"
   ]
  },
  {
   "cell_type": "markdown",
   "id": "da0cb188",
   "metadata": {},
   "source": [
    "## Advanced Pandas\n",
    "\n",
    "\n",
    "1. Pivot: **df.pivot_table()**\n",
    "2. Merge/Join: **pd.merge() , pd.concat(), pd.join()**\n",
    "3. Window function -- rolling function: **df.rolling()**\n",
    "4. Reshaping dataframe: **df.melt(), df.stack(), df.unstack()**\n",
    "5. Correlation between columns: **df.corr()**\n",
    "6. Convert to datetime object for time series: **df.to_datetime()**\n",
    "7. One-hot encoding: **pd.get_dummies()**\n",
    "8. Bin continouse numeric data: **pd.cut(), pd.qcut()**\n",
    "9. Cross-tabulation of frequency between two features: **pd.crosstab()**\n",
    "10. Count distinct values across dataframe: **df.nunique()**\n",
    "11. Perform transformation within groupby: **df.transform()**"
   ]
  },
  {
   "cell_type": "code",
   "execution_count": 44,
   "id": "3ff9f148",
   "metadata": {},
   "outputs": [
    {
     "data": {
      "application/vnd.microsoft.datawrangler.viewer.v0+json": {
       "columns": [
        {
         "name": "City",
         "rawType": "object",
         "type": "string"
        },
        {
         "name": "total_marks",
         "rawType": "float64",
         "type": "float"
        }
       ],
       "ref": "61becbef-bc2c-4765-b0c6-d87c30c24a26",
       "rows": [
        [
         "London",
         "165.5"
        ],
        [
         "New York",
         "174.0"
        ],
        [
         "Paris",
         "177.0"
        ]
       ],
       "shape": {
        "columns": 1,
        "rows": 3
       }
      },
      "text/html": [
       "<div>\n",
       "<style scoped>\n",
       "    .dataframe tbody tr th:only-of-type {\n",
       "        vertical-align: middle;\n",
       "    }\n",
       "\n",
       "    .dataframe tbody tr th {\n",
       "        vertical-align: top;\n",
       "    }\n",
       "\n",
       "    .dataframe thead th {\n",
       "        text-align: right;\n",
       "    }\n",
       "</style>\n",
       "<table border=\"1\" class=\"dataframe\">\n",
       "  <thead>\n",
       "    <tr style=\"text-align: right;\">\n",
       "      <th></th>\n",
       "      <th>total_marks</th>\n",
       "    </tr>\n",
       "    <tr>\n",
       "      <th>City</th>\n",
       "      <th></th>\n",
       "    </tr>\n",
       "  </thead>\n",
       "  <tbody>\n",
       "    <tr>\n",
       "      <th>London</th>\n",
       "      <td>165.5</td>\n",
       "    </tr>\n",
       "    <tr>\n",
       "      <th>New York</th>\n",
       "      <td>174.0</td>\n",
       "    </tr>\n",
       "    <tr>\n",
       "      <th>Paris</th>\n",
       "      <td>177.0</td>\n",
       "    </tr>\n",
       "  </tbody>\n",
       "</table>\n",
       "</div>"
      ],
      "text/plain": [
       "          total_marks\n",
       "City                 \n",
       "London          165.5\n",
       "New York        174.0\n",
       "Paris           177.0"
      ]
     },
     "execution_count": 44,
     "metadata": {},
     "output_type": "execute_result"
    }
   ],
   "source": [
    "df.pivot_table(index='City', values='total_marks', aggfunc='mean')"
   ]
  },
  {
   "cell_type": "code",
   "execution_count": 47,
   "id": "05fa137f",
   "metadata": {},
   "outputs": [
    {
     "data": {
      "application/vnd.microsoft.datawrangler.viewer.v0+json": {
       "columns": [
        {
         "name": "index",
         "rawType": "int64",
         "type": "integer"
        },
        {
         "name": "Score_Math",
         "rawType": "float64",
         "type": "float"
        }
       ],
       "ref": "94bf7858-b202-4543-b63d-0c4910c1c847",
       "rows": [
        [
         "0",
         null
        ],
        [
         "1",
         "81.5"
        ],
        [
         "2",
         "85.0"
        ],
        [
         "3",
         "90.0"
        ],
        [
         "4",
         "82.0"
        ],
        [
         "5",
         "85.5"
        ]
       ],
       "shape": {
        "columns": 1,
        "rows": 6
       }
      },
      "text/plain": [
       "0     NaN\n",
       "1    81.5\n",
       "2    85.0\n",
       "3    90.0\n",
       "4    82.0\n",
       "5    85.5\n",
       "Name: Score_Math, dtype: float64"
      ]
     },
     "execution_count": 47,
     "metadata": {},
     "output_type": "execute_result"
    }
   ],
   "source": [
    "#window function -- rolling window\n",
    "\n",
    "df['Score_Math'].rolling(window=2).mean()"
   ]
  },
  {
   "cell_type": "code",
   "execution_count": null,
   "id": "abf87c41",
   "metadata": {},
   "outputs": [],
   "source": []
  }
 ],
 "metadata": {
  "kernelspec": {
   "display_name": ".venv",
   "language": "python",
   "name": "python3"
  },
  "language_info": {
   "codemirror_mode": {
    "name": "ipython",
    "version": 3
   },
   "file_extension": ".py",
   "mimetype": "text/x-python",
   "name": "python",
   "nbconvert_exporter": "python",
   "pygments_lexer": "ipython3",
   "version": "3.12.11"
  }
 },
 "nbformat": 4,
 "nbformat_minor": 5
}
